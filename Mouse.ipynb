{
 "cells": [
  {
   "cell_type": "code",
   "execution_count": null,
   "id": "2939aa63",
   "metadata": {},
   "outputs": [],
   "source": [
    "import zmq\n",
    "\n",
    "context = zmq.Context()\n",
    "\n",
    "#  Socket to talk to server\n",
    "print(\"Connecting to hello world server…\")\n",
    "socket = context.socket(zmq.REQ)\n",
    "socket.connect(\"tcp://localhost:5555\")\n"
   ]
  },
  {
   "cell_type": "code",
   "execution_count": null,
   "id": "135ad9ef",
   "metadata": {},
   "outputs": [],
   "source": [
    "from pynput import mouse\n",
    "\n",
    "def on_move(x, y):\n",
    "    print('Pointer moved to {0}'.format((x, y)))\n",
    "    print(f\"Sending request …\")\n",
    "    socket.send(b\"move mouse\")\n",
    "    #  Get the reply.\n",
    "    socket.recv()\n",
    "    \n",
    "def on_click(x, y, button, pressed):\n",
    "    #print('{0} at {1}'.format('Pressed' if pressed else 'Released',(x, y)))\n",
    "    socket.send(b\"click mouse\")\n",
    "    #  Get the reply.\n",
    "    socket.recv()\n",
    "    if not pressed:\n",
    "        # Stop listener\n",
    "        return False\n",
    "\n",
    "def on_scroll(x, y, dx, dy):\n",
    "    print('Scrolled {0} at {1}'.format('down' if dy < 0 else 'up',(x, y)))\n",
    "    socket.send(b\"scroll mouse\")\n",
    "    #  Get the reply.\n",
    "    socket.recv()"
   ]
  },
  {
   "cell_type": "code",
   "execution_count": null,
   "id": "99348c44",
   "metadata": {
    "scrolled": true
   },
   "outputs": [],
   "source": [
    "with mouse.Listener(\n",
    "        on_move=on_move,\n",
    "        on_click=on_click,\n",
    "        on_scroll=on_scroll) as listener:\n",
    "    listener.join()"
   ]
  },
  {
   "cell_type": "code",
   "execution_count": null,
   "id": "7c8e9472",
   "metadata": {},
   "outputs": [],
   "source": [
    "# ...or, in a non-blocking fashion:\n",
    "listener = mouse.Listener(\n",
    "    on_move=on_move,\n",
    "    on_click=on_click,\n",
    "    on_scroll=on_scroll)\n",
    "listener.start()"
   ]
  },
  {
   "cell_type": "code",
   "execution_count": null,
   "id": "3b66ab51",
   "metadata": {},
   "outputs": [],
   "source": []
  }
 ],
 "metadata": {
  "kernelspec": {
   "display_name": "Python 3 (ipykernel)",
   "language": "python",
   "name": "python3"
  },
  "language_info": {
   "codemirror_mode": {
    "name": "ipython",
    "version": 3
   },
   "file_extension": ".py",
   "mimetype": "text/x-python",
   "name": "python",
   "nbconvert_exporter": "python",
   "pygments_lexer": "ipython3",
   "version": "3.9.7"
  }
 },
 "nbformat": 4,
 "nbformat_minor": 5
}
