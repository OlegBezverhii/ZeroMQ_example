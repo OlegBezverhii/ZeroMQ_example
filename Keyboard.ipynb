{
 "cells": [
  {
   "cell_type": "code",
   "execution_count": null,
   "id": "2939aa63",
   "metadata": {},
   "outputs": [],
   "source": [
    "import zmq\n",
    "\n",
    "context = zmq.Context()\n",
    "\n",
    "#  Socket to talk to server\n",
    "print(\"Connecting to hello world server…\")\n",
    "socket = context.socket(zmq.REQ)\n",
    "socket.connect(\"tcp://localhost:5555\")\n"
   ]
  },
  {
   "cell_type": "code",
   "execution_count": null,
   "id": "39a328ed",
   "metadata": {},
   "outputs": [],
   "source": [
    "# from pynput import keyboard\n",
    "\n",
    "def on_press(key):\n",
    "    try:\n",
    "        print('alphanumeric key {0} pressed'.format(key.char))\n",
    "        socket.send(b\"client 2 keyboard\")\n",
    "        socket.recv()\n",
    "    except AttributeError:\n",
    "        print('special key {0} pressed'.format(key))\n",
    "\n",
    "def on_release(key):\n",
    "    print('{0} released'.format(key))\n",
    "    socket.send(b\"client 2 keyboard\")\n",
    "    socket.recv()\n",
    "    if key == keyboard.Key.esc:\n",
    "        # Stop listener\n",
    "        return False"
   ]
  },
  {
   "cell_type": "code",
   "execution_count": null,
   "id": "b97c50f7",
   "metadata": {
    "scrolled": true
   },
   "outputs": [],
   "source": [
    "# Collect events until released\n",
    "with keyboard.Listener(\n",
    "        on_press=on_press,\n",
    "        on_release=on_release) as listener:\n",
    "    listener.join()"
   ]
  },
  {
   "cell_type": "code",
   "execution_count": null,
   "id": "e978dd1f",
   "metadata": {
    "scrolled": true
   },
   "outputs": [],
   "source": [
    "# ...or, in a non-blocking fashion:\n",
    "listener = keyboard.Listener(\n",
    "    on_press=on_press,\n",
    "    on_release=on_release)\n",
    "listener.start()"
   ]
  },
  {
   "cell_type": "code",
   "execution_count": null,
   "id": "2ba51fbd",
   "metadata": {},
   "outputs": [],
   "source": []
  }
 ],
 "metadata": {
  "kernelspec": {
   "display_name": "Python 3 (ipykernel)",
   "language": "python",
   "name": "python3"
  },
  "language_info": {
   "codemirror_mode": {
    "name": "ipython",
    "version": 3
   },
   "file_extension": ".py",
   "mimetype": "text/x-python",
   "name": "python",
   "nbconvert_exporter": "python",
   "pygments_lexer": "ipython3",
   "version": "3.9.7"
  }
 },
 "nbformat": 4,
 "nbformat_minor": 5
}
